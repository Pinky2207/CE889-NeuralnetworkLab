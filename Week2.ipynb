{
  "nbformat": 4,
  "nbformat_minor": 0,
  "metadata": {
    "colab": {
      "provenance": [],
      "authorship_tag": "ABX9TyNLu2IwyTbm2mtPEvpv4YYM",
      "include_colab_link": true
    },
    "kernelspec": {
      "name": "python3",
      "display_name": "Python 3"
    },
    "language_info": {
      "name": "python"
    }
  },
  "cells": [
    {
      "cell_type": "markdown",
      "metadata": {
        "id": "view-in-github",
        "colab_type": "text"
      },
      "source": [
        "<a href=\"https://colab.research.google.com/github/Pinky2207/CE889-NeuralnetworkLab/blob/main/Week2.ipynb\" target=\"_parent\"><img src=\"https://colab.research.google.com/assets/colab-badge.svg\" alt=\"Open In Colab\"/></a>"
      ]
    },
    {
      "cell_type": "code",
      "execution_count": null,
      "metadata": {
        "id": "eXW03Ltm80Od"
      },
      "outputs": [],
      "source": [
        "import matplotlib.pyplot as plt\n",
        "import numpy as np"
      ]
    },
    {
      "cell_type": "markdown",
      "source": [
        "1.1 Let’s have a 2D vector [1, 1]. After the scaling transformation by the factor of 2, it\n",
        "becomes a vector [2, 2]. Draw these two vectors in different colours on the same\n",
        "figure (a figure like the below one)."
      ],
      "metadata": {
        "id": "BfQ6QSrzBE6c"
      }
    },
    {
      "cell_type": "code",
      "source": [
        "def linear_trans(_2d_vector, scaling_factor):\n",
        "\n",
        "  x, y=_2d_vector[0],_2d_vector[1]\n",
        "  scaled_x, scaled_y = x*scaling_factor , y*scaling_factor\n",
        "\n",
        "  plt.plot([0,x],[0,y], color='blue', linewidth = 5)\n",
        "  plt.plot([0,scaled_x] , [0,scaled_y], color='red')\n",
        "  plt.show()\n"
      ],
      "metadata": {
        "id": "t_s1frQX9Zmm"
      },
      "execution_count": null,
      "outputs": []
    },
    {
      "cell_type": "code",
      "source": [
        "linear_trans([1,1],2)"
      ],
      "metadata": {
        "colab": {
          "base_uri": "https://localhost:8080/",
          "height": 283
        },
        "id": "iX_Joj6y-uZR",
        "outputId": "051a7331-4343-4ae1-94fb-5b8f7b1d02c1"
      },
      "execution_count": null,
      "outputs": [
        {
          "output_type": "stream",
          "name": "stdout",
          "text": [
            "2 2\n"
          ]
        },
        {
          "output_type": "display_data",
          "data": {
            "text/plain": [
              "<Figure size 432x288 with 1 Axes>"
            ],
            "image/png": "[encoded data removed]"
          },
          "metadata": {
            "needs_background": "light"
          }
        }
      ]
    },
    {
      "cell_type": "markdown",
      "source": [
        "2. Create a function, by which a vector can be visualised before and after the rotation.\n",
        "Users are allowed to specify two input arguments: a 2D vector and rotation degree.\n",
        "Formula: [\n",
        "cos 𝜃 − sin 𝜃\n",
        "sin 𝜃 cos 𝜃\n",
        "]*vector"
      ],
      "metadata": {
        "id": "r0qgbRXdBIcm"
      }
    },
    {
      "cell_type": "code",
      "source": [
        "def _2d_vector_rotation(_2d_vector, theta):\n",
        "    x, y = _2d_vector[0], _2d_vector[1]\n",
        "    vector_array = np.array([_2d_vector])\n",
        "    theta_radians = theta * np.pi/180\n",
        "    rotation_matrix = np.array(\n",
        "        [\n",
        "            [np.cos(theta_radians), -np.sin(theta_radians)], \n",
        "            [np.sin(theta_radians), np.cos(theta_radians)]\n",
        "        ]\n",
        "    )\n",
        "    \n",
        "    rotated_vector = np.matmul(rotation_matrix, vector_array.transpose())\n",
        "    rotated_vector = rotated_vector.transpose()[0]\n",
        "    \n",
        "    rotated_x, rotated_y = rotated_vector[0], rotated_vector[1]\n",
        "    plt.plot([0, x], [0, y], color='blue', linewidth=5)\n",
        "    plt.plot([0, rotated_x], [0, rotated_y], color='red')\n",
        "    \n",
        "    plt.show()"
      ],
      "metadata": {
        "id": "Ve9EDhOT-2_3"
      },
      "execution_count": null,
      "outputs": []
    },
    {
      "cell_type": "code",
      "source": [
        "_2d_vector_rotation([1, 1], 90)"
      ],
      "metadata": {
        "id": "JCZJxNFADa7t",
        "outputId": "f6a714b1-3be8-457e-aa41-eee1cad91556",
        "colab": {
          "base_uri": "https://localhost:8080/",
          "height": 265
        }
      },
      "execution_count": null,
      "outputs": [
        {
          "output_type": "display_data",
          "data": {
            "text/plain": [
              "<Figure size 432x288 with 1 Axes>"
            ],
            "image/png": "[encoded data removed]"
          },
          "metadata": {
            "needs_background": "light"
          }
        }
      ]
    },
    {
      "cell_type": "code",
      "source": [],
      "metadata": {
        "id": "O_qG_wwFDbjp"
      },
      "execution_count": null,
      "outputs": []
    }
  ]
}